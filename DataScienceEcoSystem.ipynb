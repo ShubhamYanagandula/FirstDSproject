{
 "cells": [
  {
   "cell_type": "markdown",
   "id": "0fc20ce6-c99f-4956-84d4-d83285dca527",
   "metadata": {},
   "source": [
    "# Data Science Tools and EcoSystem"
   ]
  },
  {
   "cell_type": "markdown",
   "id": "5cfb00d9-7fd6-4db0-8aff-5121cd657efd",
   "metadata": {},
   "source": [
    "In this Notebook, Data science tools and ecosystem are summarized\n",
    "\n",
    "__Objectives__\n",
    "\n",
    "- List of popular languages for data scientists\n",
    "- Commonly used libraries \n",
    "- Commonly used datascience tools"
   ]
  },
  {
   "cell_type": "markdown",
   "id": "569b4026-7ce1-4d48-8dd6-881faebd7760",
   "metadata": {},
   "source": [
    "Some of the popular languages that data scientists use are:\n",
    "\n",
    "- Python\n",
    "- R\n",
    "- SQL"
   ]
  },
  {
   "cell_type": "markdown",
   "id": "51f3b5dc-fcea-4aa0-a465-5a7cb5de2ce7",
   "metadata": {},
   "source": [
    "Some of the commonly used libraries used by a data scientists include:\n",
    "- Numpi\n",
    "- Scipi\n",
    "- Panda"
   ]
  },
  {
   "cell_type": "markdown",
   "id": "91ae8d17-6b4f-493c-8ecd-311370e39232",
   "metadata": {},
   "source": [
    "| DataScience Tools |\n",
    "|-------------------|\n",
    "| SAS |\n",
    "| Apache Spark |\n",
    "| Watson Studio |"
   ]
  },
  {
   "cell_type": "markdown",
   "id": "43e35ab3-3ad0-46b6-9fa5-e1e524368ff4",
   "metadata": {},
   "source": [
    "### Below are a few examples of evaluating arithmetic expressions in Python"
   ]
  },
  {
   "cell_type": "code",
   "execution_count": 4,
   "id": "b72f1f5a-1c36-4fef-a2b1-b8a1b07eb3eb",
   "metadata": {
    "tags": []
   },
   "outputs": [
    {
     "data": {
      "text/plain": [
       "17"
      ]
     },
     "execution_count": 4,
     "metadata": {},
     "output_type": "execute_result"
    }
   ],
   "source": [
    "#This a simple arithmetic expression to mutiply then add integers\n",
    "\n",
    "(3*4)+5"
   ]
  },
  {
   "cell_type": "code",
   "execution_count": 12,
   "id": "5df93fb9-6112-47d6-a2a5-d45f98ecdcf5",
   "metadata": {
    "tags": []
   },
   "outputs": [
    {
     "data": {
      "text/plain": [
       "3.3333333333333335"
      ]
     },
     "execution_count": 12,
     "metadata": {},
     "output_type": "execute_result"
    }
   ],
   "source": [
    "#This will convert 200 minutes to hours by diving by 60\n",
    "\n",
    "200/60"
   ]
  },
  {
   "cell_type": "code",
   "execution_count": 22,
   "id": "66977f65-fb78-4224-993f-add89bad99ec",
   "metadata": {
    "tags": []
   },
   "outputs": [],
   "source": [
    "## SH\n"
   ]
  }
 ],
 "metadata": {
  "kernelspec": {
   "display_name": "Python 3 (ipykernel)",
   "language": "python",
   "name": "python3"
  },
  "language_info": {
   "codemirror_mode": {
    "name": "ipython",
    "version": 3
   },
   "file_extension": ".py",
   "mimetype": "text/x-python",
   "name": "python",
   "nbconvert_exporter": "python",
   "pygments_lexer": "ipython3",
   "version": "3.11.5"
  }
 },
 "nbformat": 4,
 "nbformat_minor": 5
}
